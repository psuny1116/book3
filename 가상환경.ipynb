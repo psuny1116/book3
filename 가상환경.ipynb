{
 "cells": [
  {
   "cell_type": "markdown",
   "metadata": {},
   "source": [
    "1. anaconda navigator 실행\n",
    "2. environments 선택 -> create 선택\n",
    "3. create new environment 창에서 name에 가상환경이름(예: abc) 입력 -> 파이썬 버전 선택 -> create 선택\n",
    "4. abc라는 이름의 가상환경 생성\n",
    "5. 새로 만든 가상환경에서 ▶ 선택 -> open terminal 선택 -> 명령 프롬프트 시작 -> conda명령어를 실행해 주피터 노트북 설치(conda install jupyter==1.0.0) -> 중간에 proceed([y]/n)? 질문에 y 입력\n",
    "6. 설치가 종료되면 abc 가상환경에서 ▶ 클릭해서 open with jupyter notebook 선택 -> 완료"
   ]
  }
 ],
 "metadata": {
  "kernelspec": {
   "display_name": "Python 3",
   "language": "python",
   "name": "python3"
  },
  "language_info": {
   "codemirror_mode": {
    "name": "ipython",
    "version": 3
   },
   "file_extension": ".py",
   "mimetype": "text/x-python",
   "name": "python",
   "nbconvert_exporter": "python",
   "pygments_lexer": "ipython3",
   "version": "3.7.6"
  }
 },
 "nbformat": 4,
 "nbformat_minor": 4
}
